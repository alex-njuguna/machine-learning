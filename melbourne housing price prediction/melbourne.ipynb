{
 "cells": [
  {
   "cell_type": "code",
   "execution_count": 11,
   "metadata": {},
   "outputs": [],
   "source": [
    "import pandas as pd\n",
    "from sklearn.tree import DecisionTreeRegressor\n",
    "\n",
    "melborne_data_path = \"./melb_data.csv\"\n",
    "\n",
    "melborne_data = pd.read_csv(melborne_data_path)\n",
    "\n",
    "melborne_data.columns\n",
    "\n"
   ]
  },
  {
   "cell_type": "code",
   "execution_count": 18,
   "metadata": {},
   "outputs": [],
   "source": [
    "melborne_data = melborne_data.dropna(axis=0)\n",
    "\n",
    "y = melborne_data.Price\n",
    "\n",
    "features = [\"Rooms\", \"Bathroom\", \"Landsize\", \"YearBuilt\"]\n",
    "\n",
    "X = melborne_data[features]"
   ]
  },
  {
   "cell_type": "code",
   "execution_count": 20,
   "metadata": {},
   "outputs": [
    {
     "name": "stdout",
     "output_type": "stream",
     "text": [
      "The actual prices for the first 5 houses are:\n",
      "12205     601000.0\n",
      "12206    1050000.0\n",
      "12207     385000.0\n",
      "12209     560000.0\n",
      "12212    2450000.0\n",
      "Name: Price, dtype: float64\n",
      "\n",
      "The predicted prices for the first 5 houses are:\n",
      "[ 601000. 1050000.  375500.  477000. 2450000.]\n"
     ]
    }
   ],
   "source": [
    "melborne_model = DecisionTreeRegressor(random_state=1)\n",
    "\n",
    "melborne_model.fit(X, y)\n",
    "\n",
    "print(\"The actual prices for the first 5 houses are:\")\n",
    "print(melborne_data.Price.tail())\n",
    "print()\n",
    "print(\"The predicted prices for the first 5 houses are:\")\n",
    "print(melborne_model.predict(X.tail()))"
   ]
  }
 ],
 "metadata": {
  "kernelspec": {
   "display_name": "Python 3",
   "language": "python",
   "name": "python3"
  },
  "language_info": {
   "codemirror_mode": {
    "name": "ipython",
    "version": 3
   },
   "file_extension": ".py",
   "mimetype": "text/x-python",
   "name": "python",
   "nbconvert_exporter": "python",
   "pygments_lexer": "ipython3",
   "version": "3.11.4"
  }
 },
 "nbformat": 4,
 "nbformat_minor": 2
}
