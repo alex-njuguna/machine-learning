{
 "cells": [
  {
   "cell_type": "code",
   "execution_count": 11,
   "metadata": {},
   "outputs": [],
   "source": [
    "import pandas as pd\n",
    "from sklearn.tree import DecisionTreeRegressor\n",
    "\n",
    "melborne_data_path = \"./melb_data.csv\"\n",
    "\n",
    "melborne_data = pd.read_csv(melborne_data_path)\n",
    "\n",
    "melborne_data.columns\n",
    "\n"
   ]
  },
  {
   "cell_type": "code",
   "execution_count": 18,
   "metadata": {},
   "outputs": [],
   "source": [
    "melborne_data = melborne_data.dropna(axis=0)\n",
    "\n",
    "y = melborne_data.Price\n",
    "\n",
    "features = [\"Rooms\", \"Bathroom\", \"Landsize\", \"YearBuilt\"]\n",
    "\n",
    "X = melborne_data[features]"
   ]
  },
  {
   "cell_type": "code",
   "execution_count": 1,
   "metadata": {},
   "outputs": [
    {
     "ename": "NameError",
     "evalue": "name 'X' is not defined",
     "output_type": "error",
     "traceback": [
      "\u001b[0;31m---------------------------------------------------------------------------\u001b[0m",
      "\u001b[0;31mNameError\u001b[0m                                 Traceback (most recent call last)",
      "\u001b[1;32m/home/alex-n/Desktop/dev/machine-learning/melbourne housing price prediction/melbourne.ipynb Cell 3\u001b[0m line \u001b[0;36m4\n\u001b[1;32m      <a href='vscode-notebook-cell:/home/alex-n/Desktop/dev/machine-learning/melbourne%20housing%20price%20prediction/melbourne.ipynb#W2sZmlsZQ%3D%3D?line=0'>1</a>\u001b[0m \u001b[39mfrom\u001b[39;00m \u001b[39msklearn\u001b[39;00m\u001b[39m.\u001b[39;00m\u001b[39mmodel_selection\u001b[39;00m \u001b[39mimport\u001b[39;00m train_test_split\n\u001b[0;32m----> <a href='vscode-notebook-cell:/home/alex-n/Desktop/dev/machine-learning/melbourne%20housing%20price%20prediction/melbourne.ipynb#W2sZmlsZQ%3D%3D?line=3'>4</a>\u001b[0m train_X, val_X, train_y, val_y \u001b[39m=\u001b[39m train_test_split(X, y, random_state\u001b[39m=\u001b[39m\u001b[39m0\u001b[39m)\n\u001b[1;32m      <a href='vscode-notebook-cell:/home/alex-n/Desktop/dev/machine-learning/melbourne%20housing%20price%20prediction/melbourne.ipynb#W2sZmlsZQ%3D%3D?line=5'>6</a>\u001b[0m melborne_model \u001b[39m=\u001b[39m DecisionTreeRegressor()\n\u001b[1;32m      <a href='vscode-notebook-cell:/home/alex-n/Desktop/dev/machine-learning/melbourne%20housing%20price%20prediction/melbourne.ipynb#W2sZmlsZQ%3D%3D?line=7'>8</a>\u001b[0m melborne_model\u001b[39m.\u001b[39mfit(train_X, train_y)\n",
      "\u001b[0;31mNameError\u001b[0m: name 'X' is not defined"
     ]
    }
   ],
   "source": [
    "from sklearn.model_selection import train_test_split\n",
    "\n",
    "\n",
    "train_X, val_X, train_y, val_y = train_test_split(X, y, random_state=0)\n",
    "\n",
    "melborne_model = DecisionTreeRegressor()\n",
    "\n",
    "melborne_model.fit(train_X, train_y)\n",
    "\n",
    "# print(\"The actual prices for the first 5 houses are:\")\n",
    "# print(melborne_data.Price.tail())\n",
    "# print()\n",
    "# print(\"The predicted prices for the first 5 houses are:\")\n",
    "# print(melborne_model.predict(X.tail()))\n",
    "\n",
    "from sklearn.metrics import mean_absolute_error\n",
    "\n",
    "y_prediction = melborne_model.predict(val_X)\n",
    "mae = mean_absolute_error(val_y, y_prediction)"
   ]
  }
 ],
 "metadata": {
  "kernelspec": {
   "display_name": "Python 3",
   "language": "python",
   "name": "python3"
  },
  "language_info": {
   "codemirror_mode": {
    "name": "ipython",
    "version": 3
   },
   "file_extension": ".py",
   "mimetype": "text/x-python",
   "name": "python",
   "nbconvert_exporter": "python",
   "pygments_lexer": "ipython3",
   "version": "3.11.4"
  }
 },
 "nbformat": 4,
 "nbformat_minor": 2
}
